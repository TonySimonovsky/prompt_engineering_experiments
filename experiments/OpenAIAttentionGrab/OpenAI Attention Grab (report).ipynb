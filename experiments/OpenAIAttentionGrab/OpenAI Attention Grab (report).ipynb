{
 "cells": [
  {
   "cell_type": "code",
   "execution_count": 1,
   "id": "22441125-7eae-4d13-b8c9-97a8fe3704f4",
   "metadata": {},
   "outputs": [],
   "source": [
    "import os, sys\n",
    "import json\n",
    "import pandas as pd"
   ]
  },
  {
   "cell_type": "code",
   "execution_count": 2,
   "id": "d590fa84-64bd-49a0-8dff-72e27d7f923f",
   "metadata": {},
   "outputs": [
    {
     "data": {
      "text/plain": [
       "True"
      ]
     },
     "execution_count": 2,
     "metadata": {},
     "output_type": "execute_result"
    }
   ],
   "source": [
    "from dotenv import load_dotenv\n",
    "\n",
    "load_dotenv(\"../../../../settings/.env\", override=True)"
   ]
  },
  {
   "cell_type": "code",
   "execution_count": 3,
   "id": "f1b3d790-68e6-4c13-9c7c-93f34f952bee",
   "metadata": {},
   "outputs": [],
   "source": [
    "from IPython.display import Markdown, display\n",
    "\n",
    "def printmd(string):\n",
    "    display(Markdown(string))"
   ]
  },
  {
   "cell_type": "code",
   "execution_count": 4,
   "id": "5707ca13-b8ae-4f02-9979-bda500e68c8c",
   "metadata": {},
   "outputs": [],
   "source": [
    "sys.path.insert(0, '../../../../05 Own Solutions/AIChampTools')\n",
    "\n",
    "import importlib\n",
    "\n",
    "from AIChampTools import AIChampTools, LLMUsage, PromptEngineeringExperiment\n",
    "prevent_output = importlib.reload(sys.modules['AIChampTools'])"
   ]
  },
  {
   "cell_type": "code",
   "execution_count": 5,
   "id": "b858d31a-47d8-48e2-b575-613d4237bd85",
   "metadata": {},
   "outputs": [],
   "source": [
    "experiment = PromptEngineeringExperiment(\n",
    "    name=\"OpenAI_Attention_Grab\",\n",
    "    logs_folder=\"../../logs/\",\n",
    ")"
   ]
  },
  {
   "cell_type": "markdown",
   "id": "ad9803c0-3782-49aa-a476-262bf18dd9f1",
   "metadata": {},
   "source": [
    "# Experiment Report"
   ]
  },
  {
   "cell_type": "markdown",
   "id": "ddc73242-a628-4203-be9c-bab85c18ed23",
   "metadata": {},
   "source": [
    "Exploring how json and other format outputs affect the model's attention and ultimately response qualities."
   ]
  },
  {
   "cell_type": "markdown",
   "id": "b87f89fb-1630-4105-8902-8748502eb883",
   "metadata": {},
   "source": [
    "## Version 04"
   ]
  },
  {
   "cell_type": "code",
   "execution_count": 19,
   "id": "643b1259-9db7-4f00-ae9b-88b356531d93",
   "metadata": {},
   "outputs": [
    {
     "name": "stdout",
     "output_type": "stream",
     "text": [
      "Prompt Messages:\n"
     ]
    },
    {
     "data": {
      "application/json": [
       {
        "content": "\n            Act as a professional career consultant with 20 years of experience.\n            \n            Your objective is to help the Human optimize their CV.\n            \n            Here's the Human's CV:\n            -------\n            **John M. Smith**\n            \n            123 Main Street, Apt 4B  \n            New York, NY 10001  \n            (555) 555-5555  \n            johnsmith@email.com\n            \n            **Professional Summary**\n            \n            Detail-oriented and highly organized professional with extensive experience in the financial industry. Proven ability to manage multiple projects simultaneously and meet tight deadlines. Excellent interpersonal skills, with the ability to communicate effectively with individuals at all levels of an organization. Seeking a challenging position in finance where I can utilize my skills and expertise to drive financial success.\n            \n            **Work Experience**\n            \n            **Senior Financial Analyst | ABC Financial Group, New York, NY | June 2015 - Present**\n            - Managed a portfolio of high-net-worth clients, providing financial planning and investment management services.\n            - Developed and implemented financial models to support decision-making processes.\n            - Assisted in the development of annual budgets and forecasts.\n            - Conducted financial analysis and presented findings to senior management.\n            - Provided training and guidance to junior financial analysts.\n            \n            **Financial Analyst | XYZ Financial Services, New York, NY | May 2012 - May 2015**\n            - Assisted in the preparation of financial reports and statements.\n            - Conducted financial research and analysis to support business decisions.\n            - Collaborated with cross-functional teams on finance-related projects.\n            - Assisted in the development and implementation of financial policies and procedures.\n            \n            **Education & Certifications**\n            \n            **Master of Business Administration (MBA), Finance | New York University, NY | 2012**\n            - Graduated with Honors\n            \n            **Bachelor of Science in Finance | New York University, NY | 2010**\n            \n            **Skills**\n            \n            - Financial Analysis\n            - Financial Modeling\n            - Budgeting and Forecasting\n            - Project Management\n            - Microsoft Office Suite (Word, Excel, PowerPoint)\n            - ERP Systems\n            \n            **References**\n            \n            Available upon request.\n            -------\n\n            Analyze the CV and come up with a list of questions, that will help you collect information that is missing to make the CV stellar.\n\n            {json_mode_toggle}\n        ",
        "role": "system"
       }
      ],
      "text/plain": [
       "<IPython.core.display.JSON object>"
      ]
     },
     "metadata": {
      "application/json": {
       "expanded": false,
       "root": "root"
      }
     },
     "output_type": "display_data"
    },
    {
     "name": "stdout",
     "output_type": "stream",
     "text": [
      "\n",
      "\n"
     ]
    },
    {
     "data": {
      "text/markdown": [
       "### Variation 1"
      ],
      "text/plain": [
       "<IPython.core.display.Markdown object>"
      ]
     },
     "metadata": {},
     "output_type": "display_data"
    },
    {
     "data": {
      "text/markdown": [
       "**User Messages**: ['{\"json_mode_toggle\": \"\"}']"
      ],
      "text/plain": [
       "<IPython.core.display.Markdown object>"
      ]
     },
     "metadata": {},
     "output_type": "display_data"
    },
    {
     "data": {
      "text/markdown": [
       "**LLM Params**: {\"model\": \"gpt-3.5-turbo-1106\", \"max_tokens\": 200, \"temperature\": 0, \"timeout\": 30}"
      ],
      "text/plain": [
       "<IPython.core.display.Markdown object>"
      ]
     },
     "metadata": {},
     "output_type": "display_data"
    },
    {
     "data": {
      "text/markdown": [
       "**Completions in the experiment**: 60"
      ],
      "text/plain": [
       "<IPython.core.display.Markdown object>"
      ]
     },
     "metadata": {},
     "output_type": "display_data"
    },
    {
     "data": {
      "text/markdown": [
       "**Avg Completion Size (characters)**: 1129"
      ],
      "text/plain": [
       "<IPython.core.display.Markdown object>"
      ]
     },
     "metadata": {},
     "output_type": "display_data"
    },
    {
     "data": {
      "text/markdown": [
       "### Variation 2"
      ],
      "text/plain": [
       "<IPython.core.display.Markdown object>"
      ]
     },
     "metadata": {},
     "output_type": "display_data"
    },
    {
     "data": {
      "text/markdown": [
       "**User Messages**: ['{\"json_mode_toggle\": \"\\\\n            Respond in a valid JSON with the following fields (and only them):\\\\n            - \\\\\"ai_message\\\\\": your message (full message including the questions)\\\\n            - \\\\\"status\\\\\", the only possible values:\\\\n                - \\\\\"collecting_missing_information\\\\\": before you\\'ve received the missing information from the human\\\\n                - \\\\\"completed\\\\\": once you\\'ve collected the information\\\\n        \"}']"
      ],
      "text/plain": [
       "<IPython.core.display.Markdown object>"
      ]
     },
     "metadata": {},
     "output_type": "display_data"
    },
    {
     "data": {
      "text/markdown": [
       "**LLM Params**: {\"model\": \"gpt-3.5-turbo-1106\", \"max_tokens\": 200, \"temperature\": 0, \"timeout\": 30}"
      ],
      "text/plain": [
       "<IPython.core.display.Markdown object>"
      ]
     },
     "metadata": {},
     "output_type": "display_data"
    },
    {
     "data": {
      "text/markdown": [
       "**Completions in the experiment**: 60"
      ],
      "text/plain": [
       "<IPython.core.display.Markdown object>"
      ]
     },
     "metadata": {},
     "output_type": "display_data"
    },
    {
     "data": {
      "text/markdown": [
       "**Avg Completion Size (characters)**: 628"
      ],
      "text/plain": [
       "<IPython.core.display.Markdown object>"
      ]
     },
     "metadata": {},
     "output_type": "display_data"
    }
   ],
   "source": [
    "results = experiment.load_results(ver=\"04\")\n",
    "\n",
    "results[\"llm_params\"] = results[\"llm_params\"].apply(json.dumps)\n",
    "results[\"data\"] = results[\"data\"].apply(json.dumps)\n",
    "# results[\"messages_template\"] = results[\"messages_template\"].apply(json.dumps,indent=4)\n",
    "\n",
    "\n",
    "from IPython.display import display, JSON\n",
    "print(\"Prompt Messages:\")\n",
    "display(JSON(results[\"messages_template\"][0]))\n",
    "print(\"\\n\")\n",
    "\n",
    "k = 0\n",
    "for i, llm_params in enumerate(results[\"llm_params\"].unique()):\n",
    "    for j, input_data in enumerate(results[\"data\"].unique()):\n",
    "    \n",
    "        completions = results[(results[\"llm_params\"]==llm_params) & (results[\"data\"]==input_data)]\n",
    "        # usage_df = pd.json_normalize(completions['llm_usage'])\n",
    "        \n",
    "        printmd(f'### Variation {k+1}')\n",
    "        printmd(f'**User Messages**: {completions[\"data\"].apply(str).unique()}')\n",
    "        printmd(f\"**LLM Params**: {llm_params}\")\n",
    "        printmd(f'**Completions in the experiment**: {len(completions)}')\n",
    "        printmd(f'**Avg Completion Size (characters)**: {int(completions[\"generation\"].str.len().mean())}')\n",
    "        # printmd(f'**Execution times stats**: {usage_df[\"generation_time\"].describe()}')\n",
    "\n",
    "        k+=1\n"
   ]
  }
 ],
 "metadata": {
  "kernelspec": {
   "display_name": "Python 3 (ipykernel)",
   "language": "python",
   "name": "python3"
  },
  "language_info": {
   "codemirror_mode": {
    "name": "ipython",
    "version": 3
   },
   "file_extension": ".py",
   "mimetype": "text/x-python",
   "name": "python",
   "nbconvert_exporter": "python",
   "pygments_lexer": "ipython3",
   "version": "3.11.5"
  }
 },
 "nbformat": 4,
 "nbformat_minor": 5
}
